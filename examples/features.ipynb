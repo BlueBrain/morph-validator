{
 "cells": [
  {
   "cell_type": "markdown",
   "metadata": {},
   "source": [
    "## Demonstration of `features` module"
   ]
  },
  {
   "cell_type": "code",
   "execution_count": null,
   "metadata": {},
   "outputs": [],
   "source": [
    "import os\n",
    "import warnings\n",
    "from morph_validator import features\n",
    "from pathlib import Path\n",
    "# for educational purposes we ignore warnings but you must not do it in your code.\n",
    "warnings.simplefilter(\"ignore\")"
   ]
  },
  {
   "cell_type": "markdown",
   "metadata": {},
   "source": [
    "##### Declare necessary data"
   ]
  },
  {
   "cell_type": "code",
   "execution_count": null,
   "metadata": {},
   "outputs": [],
   "source": [
    "# data directory\n",
    "test_data_dir = Path(os.getcwd()).resolve().parent / 'tests/data'\n",
    "# database file of valid morphologies\n",
    "valid_mtype_db_file = test_data_dir / 'morphologies/valid/mini/neuronDB.dat'\n",
    "# directory test morphologies\n",
    "test_dir = test_data_dir / 'morphologies/test'"
   ]
  },
  {
   "cell_type": "markdown",
   "metadata": {},
   "source": [
    "##### The most usecase. Validate test morphologies against valid morphologies."
   ]
  },
  {
   "cell_type": "code",
   "execution_count": null,
   "metadata": {},
   "outputs": [],
   "source": [
    "# scores of test morphologies agains valid ones\n",
    "scores = features.validate(valid_mtype_db_file, test_dir)\n",
    "# list of dataframes of failed features per each morphology\n",
    "failed_features_list = features.failed_scores(scores, 1.)\n",
    "for failed_features in failed_features_list:\n",
    "    print(failed_features)\n",
    "    print('--------------------------------------')"
   ]
  },
  {
   "cell_type": "markdown",
   "metadata": {},
   "source": [
    "##### Output all scores of test morphologies"
   ]
  },
  {
   "cell_type": "code",
   "execution_count": null,
   "metadata": {},
   "outputs": [],
   "source": [
    "scores = features.validate(valid_mtype_db_file, test_dir)\n",
    "scores"
   ]
  },
  {
   "cell_type": "markdown",
   "metadata": {},
   "source": [
    "##### Output feature values of test morphologies"
   ]
  },
  {
   "cell_type": "code",
   "execution_count": null,
   "metadata": {},
   "outputs": [],
   "source": [
    "test_files_per_mtype = features.get_test_files_per_mtype(test_dir)\n",
    "test_discrete_features, test_continuous_features = features.collect_features(test_files_per_mtype)\n",
    "test_discrete_features"
   ]
  },
  {
   "cell_type": "markdown",
   "metadata": {},
   "source": [
    "##### Output feature values of valid morphologies"
   ]
  },
  {
   "cell_type": "code",
   "execution_count": null,
   "metadata": {},
   "outputs": [],
   "source": [
    "valid_files_per_mtype = features.get_valid_mtype_files(valid_mtype_db_file)\n",
    "valid_discrete_features, valid_continuous_features = features.collect_features(valid_files_per_mtype)\n",
    "valid_continuous_features"
   ]
  }
 ],
 "metadata": {
  "kernelspec": {
   "display_name": "Python 3",
   "language": "python",
   "name": "python3"
  },
  "language_info": {
   "codemirror_mode": {
    "name": "ipython",
    "version": 3
   },
   "file_extension": ".py",
   "mimetype": "text/x-python",
   "name": "python",
   "nbconvert_exporter": "python",
   "pygments_lexer": "ipython3",
   "version": "3.7.7"
  }
 },
 "nbformat": 4,
 "nbformat_minor": 2
}
